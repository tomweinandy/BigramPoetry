{
 "cells": [
  {
   "cell_type": "code",
   "execution_count": 7,
   "metadata": {
    "collapsed": true
   },
   "outputs": [],
   "source": [
    "import tweepy\n",
    "import json\n",
    "\n",
    "with open('../../Dropbox/100DaysOfCodePRIVATE/JTCreds.json') as file:\n",
    "    creds = json.loads(file.read())\n",
    "\n",
    "API_KEY = creds['API_KEY']\n",
    "API_SECRET = creds['API_SECRET']\n",
    "ACCESS_TOKEN = creds['ACCESS_TOKEN']\n",
    "ACCESS_SECRET = creds['ACCESS_SECRET']\n",
    "\n",
    "auth = tweepy.OAuthHandler(API_KEY, API_SECRET)\n",
    "auth.set_access_token(ACCESS_TOKEN, ACCESS_SECRET)\n",
    "\n",
    "api = tweepy.API(auth)"
   ]
  },
  {
   "cell_type": "code",
   "execution_count": 9,
   "outputs": [
    {
     "name": "stdout",
     "output_type": "stream",
     "text": [
      "Dear internet provider, my upload speed is only 32.91Mbps. I'm not mad, just disappointed\n",
      "Dear internet provider, my upload speed is only 0.62Mbps!\n",
      "RT @bryan_caplan: \"Offer a green card to any Russian with a technical degree who wishes to emigrate to the United States.\" https://t.co/cny…\n",
      "Hey, that's my face! https://t.co/mksz4coL5X\n",
      "PDFs are terrible. Here is how to make them less terrible... https://t.co/yqeK0bDfos\n",
      "Same job and same hat. But now the hat is cooler, like a fedora or something https://t.co/81MyjZp4ef\n",
      "Glad to have had the chance to speak at Big Data Ignite this year! The first 19min sound like I am presenting from… https://t.co/GAtfF3wEZO\n",
      "I got a new professional headshot so I decided to speak at a conference to show it off https://t.co/zQCaRVLN1E\n",
      "She’s here!\n",
      "\n",
      " #NABE2021 https://t.co/bvSsOQOdzL\n",
      ".@SusanLund_DC says it’s not about “supply chains” but “supply networks”\n",
      "\n",
      "#NABE2021 https://t.co/1rvFszLB3x\n",
      "Barriers to employment remain high since the pandemic &amp; disproportionately impact women, minorities. -Michael Horri… https://t.co/cn2IqV9TVu\n",
      "“Markets are always wrong—that’s why prices are always changing.” -Chris McReynolds\n",
      "\n",
      " #NABE2021 https://t.co/xcCuXDQsDe\n",
      "RT @YelenaMaleyev: “Climate needs to be considered at the highest level [of a corporation], not in some corporate ghetto” - Spencer Glendon…\n",
      "“Nowadays tech economists are not unusual, but in 2002 they were rare.” -HV\n",
      "\n",
      "Do I owe this man my job? https://t.co/N097iGGMWe\n",
      "Employees want to work from home &amp; employers agreed it turned out better than expected (a la Steven Davis of… https://t.co/js7GRDeZFC\n",
      "Sara Johnson of @IHSMarkit talks at @business_econ on global economic outlook.\n",
      "\n",
      "#NABE2021 https://t.co/3BmU4CvJa9\n",
      "RT @GregDaco: ▶️NABE Panelists Temper Forecast for GDP Growth in 2021\n",
      "\n",
      "▶️Two-Thirds Expect Full Job Market Recovery by Late 2022\n",
      "\n",
      "▶️Inflati…\n",
      ".@GregDaco continues: #Inflation will stay around but at a “healthy” level and not expected to spiral out of contro… https://t.co/Ni9PBhaZhb\n",
      "Delta flattened recovery this summer (by @GregDaco) #NABE2021 https://t.co/QpdOFtL4P3\n",
      "These forecasts did not heed Nordhaus’s advice. The smooth curve away from the trend describes gradual (ie smooth)… https://t.co/fcJ14fkNOJ\n"
     ]
    }
   ],
   "source": [
    "public_tweets = api.home_timeline()\n",
    "for tweet in public_tweets:\n",
    "    print(tweet.text)"
   ],
   "metadata": {
    "collapsed": false,
    "pycharm": {
     "name": "#%%\n"
    }
   }
  },
  {
   "cell_type": "code",
   "execution_count": 65,
   "outputs": [],
   "source": [
    "query = api.search_tweets(q='machine learning', lang='en', count=100)"
   ],
   "metadata": {
    "collapsed": false,
    "pycharm": {
     "name": "#%%\n"
    }
   }
  },
  {
   "cell_type": "code",
   "execution_count": 49,
   "outputs": [
    {
     "name": "stdout",
     "output_type": "stream",
     "text": [
      "<class 'tweepy.models.Status'>\n"
     ]
    },
    {
     "data": {
      "text/plain": "Status(_api=<tweepy.api.API object at 0x11bb614f0>, _json={'created_at': 'Tue May 24 14:25:37 +0000 2022', 'id': 1529106349463900162, 'id_str': '1529106349463900162', 'text': 'RT @HarmenBussemkr: Our new biophysically interpretable machine learning approach has been published by @NatureBiotech. This was a great co…', 'truncated': False, 'entities': {'hashtags': [], 'symbols': [], 'user_mentions': [{'screen_name': 'HarmenBussemkr', 'name': 'Harmen Bussemaker', 'id': 1047195299574403074, 'id_str': '1047195299574403074', 'indices': [3, 18]}, {'screen_name': 'NatureBiotech', 'name': 'Nature Biotechnology', 'id': 44418062, 'id_str': '44418062', 'indices': [104, 118]}], 'urls': []}, 'metadata': {'iso_language_code': 'en', 'result_type': 'recent'}, 'source': '<a href=\"https://mobile.twitter.com\" rel=\"nofollow\">Twitter Web App</a>', 'in_reply_to_status_id': None, 'in_reply_to_status_id_str': None, 'in_reply_to_user_id': None, 'in_reply_to_user_id_str': None, 'in_reply_to_screen_name': None, 'user': {'id': 748584375026094080, 'id_str': '748584375026094080', 'name': 'Hamed Najafabadi', 'screen_name': 'hsnajafabadi', 'location': 'Canada', 'description': 'Assistant Professor at McGill University, studying gene regulation in human cells.', 'url': 'https://t.co/wRAfLUZHQ7', 'entities': {'url': {'urls': [{'url': 'https://t.co/wRAfLUZHQ7', 'expanded_url': 'http://csg.lab.mcgill.ca/', 'display_url': 'csg.lab.mcgill.ca', 'indices': [0, 23]}]}, 'description': {'urls': []}}, 'protected': False, 'followers_count': 687, 'friends_count': 430, 'listed_count': 7, 'created_at': 'Thu Jun 30 18:29:57 +0000 2016', 'favourites_count': 2972, 'utc_offset': None, 'time_zone': None, 'geo_enabled': False, 'verified': False, 'statuses_count': 902, 'lang': None, 'contributors_enabled': False, 'is_translator': False, 'is_translation_enabled': False, 'profile_background_color': 'F5F8FA', 'profile_background_image_url': None, 'profile_background_image_url_https': None, 'profile_background_tile': False, 'profile_image_url': 'http://pbs.twimg.com/profile_images/1050047002787147777/98LUW9Ou_normal.jpg', 'profile_image_url_https': 'https://pbs.twimg.com/profile_images/1050047002787147777/98LUW9Ou_normal.jpg', 'profile_link_color': '1DA1F2', 'profile_sidebar_border_color': 'C0DEED', 'profile_sidebar_fill_color': 'DDEEF6', 'profile_text_color': '333333', 'profile_use_background_image': True, 'has_extended_profile': False, 'default_profile': True, 'default_profile_image': False, 'following': False, 'follow_request_sent': False, 'notifications': False, 'translator_type': 'none', 'withheld_in_countries': []}, 'geo': None, 'coordinates': None, 'place': None, 'contributors': None, 'retweeted_status': {'created_at': 'Tue May 24 11:48:00 +0000 2022', 'id': 1529066684274905089, 'id_str': '1529066684274905089', 'text': 'Our new biophysically interpretable machine learning approach has been published by @NatureBiotech. This was a grea… https://t.co/BgnnIEFrHT', 'truncated': True, 'entities': {'hashtags': [], 'symbols': [], 'user_mentions': [{'screen_name': 'NatureBiotech', 'name': 'Nature Biotechnology', 'id': 44418062, 'id_str': '44418062', 'indices': [84, 98]}], 'urls': [{'url': 'https://t.co/BgnnIEFrHT', 'expanded_url': 'https://twitter.com/i/web/status/1529066684274905089', 'display_url': 'twitter.com/i/web/status/1…', 'indices': [117, 140]}]}, 'metadata': {'iso_language_code': 'en', 'result_type': 'recent'}, 'source': '<a href=\"https://mobile.twitter.com\" rel=\"nofollow\">Twitter Web App</a>', 'in_reply_to_status_id': None, 'in_reply_to_status_id_str': None, 'in_reply_to_user_id': None, 'in_reply_to_user_id_str': None, 'in_reply_to_screen_name': None, 'user': {'id': 1047195299574403074, 'id_str': '1047195299574403074', 'name': 'Harmen Bussemaker', 'screen_name': 'HarmenBussemkr', 'location': '', 'description': 'Professor of Biological Sciences and Systems Biology at Columbia University', 'url': None, 'entities': {'description': {'urls': []}}, 'protected': False, 'followers_count': 131, 'friends_count': 38, 'listed_count': 0, 'created_at': 'Tue Oct 02 18:43:10 +0000 2018', 'favourites_count': 0, 'utc_offset': None, 'time_zone': None, 'geo_enabled': False, 'verified': False, 'statuses_count': 7, 'lang': None, 'contributors_enabled': False, 'is_translator': False, 'is_translation_enabled': False, 'profile_background_color': 'F5F8FA', 'profile_background_image_url': None, 'profile_background_image_url_https': None, 'profile_background_tile': False, 'profile_image_url': 'http://pbs.twimg.com/profile_images/1047196898258575360/jd_TXGpF_normal.jpg', 'profile_image_url_https': 'https://pbs.twimg.com/profile_images/1047196898258575360/jd_TXGpF_normal.jpg', 'profile_banner_url': 'https://pbs.twimg.com/profile_banners/1047195299574403074/1588950277', 'profile_link_color': '1DA1F2', 'profile_sidebar_border_color': 'C0DEED', 'profile_sidebar_fill_color': 'DDEEF6', 'profile_text_color': '333333', 'profile_use_background_image': True, 'has_extended_profile': False, 'default_profile': True, 'default_profile_image': False, 'following': False, 'follow_request_sent': False, 'notifications': False, 'translator_type': 'none', 'withheld_in_countries': []}, 'geo': None, 'coordinates': None, 'place': None, 'contributors': None, 'is_quote_status': False, 'retweet_count': 9, 'favorite_count': 31, 'favorited': False, 'retweeted': False, 'possibly_sensitive': False, 'lang': 'en'}, 'is_quote_status': False, 'retweet_count': 9, 'favorite_count': 0, 'favorited': False, 'retweeted': False, 'lang': 'en'}, created_at=datetime.datetime(2022, 5, 24, 14, 25, 37, tzinfo=datetime.timezone.utc), id=1529106349463900162, id_str='1529106349463900162', text='RT @HarmenBussemkr: Our new biophysically interpretable machine learning approach has been published by @NatureBiotech. This was a great co…', truncated=False, entities={'hashtags': [], 'symbols': [], 'user_mentions': [{'screen_name': 'HarmenBussemkr', 'name': 'Harmen Bussemaker', 'id': 1047195299574403074, 'id_str': '1047195299574403074', 'indices': [3, 18]}, {'screen_name': 'NatureBiotech', 'name': 'Nature Biotechnology', 'id': 44418062, 'id_str': '44418062', 'indices': [104, 118]}], 'urls': []}, metadata={'iso_language_code': 'en', 'result_type': 'recent'}, source='Twitter Web App', source_url='https://mobile.twitter.com', in_reply_to_status_id=None, in_reply_to_status_id_str=None, in_reply_to_user_id=None, in_reply_to_user_id_str=None, in_reply_to_screen_name=None, author=User(_api=<tweepy.api.API object at 0x11bb614f0>, _json={'id': 748584375026094080, 'id_str': '748584375026094080', 'name': 'Hamed Najafabadi', 'screen_name': 'hsnajafabadi', 'location': 'Canada', 'description': 'Assistant Professor at McGill University, studying gene regulation in human cells.', 'url': 'https://t.co/wRAfLUZHQ7', 'entities': {'url': {'urls': [{'url': 'https://t.co/wRAfLUZHQ7', 'expanded_url': 'http://csg.lab.mcgill.ca/', 'display_url': 'csg.lab.mcgill.ca', 'indices': [0, 23]}]}, 'description': {'urls': []}}, 'protected': False, 'followers_count': 687, 'friends_count': 430, 'listed_count': 7, 'created_at': 'Thu Jun 30 18:29:57 +0000 2016', 'favourites_count': 2972, 'utc_offset': None, 'time_zone': None, 'geo_enabled': False, 'verified': False, 'statuses_count': 902, 'lang': None, 'contributors_enabled': False, 'is_translator': False, 'is_translation_enabled': False, 'profile_background_color': 'F5F8FA', 'profile_background_image_url': None, 'profile_background_image_url_https': None, 'profile_background_tile': False, 'profile_image_url': 'http://pbs.twimg.com/profile_images/1050047002787147777/98LUW9Ou_normal.jpg', 'profile_image_url_https': 'https://pbs.twimg.com/profile_images/1050047002787147777/98LUW9Ou_normal.jpg', 'profile_link_color': '1DA1F2', 'profile_sidebar_border_color': 'C0DEED', 'profile_sidebar_fill_color': 'DDEEF6', 'profile_text_color': '333333', 'profile_use_background_image': True, 'has_extended_profile': False, 'default_profile': True, 'default_profile_image': False, 'following': False, 'follow_request_sent': False, 'notifications': False, 'translator_type': 'none', 'withheld_in_countries': []}, id=748584375026094080, id_str='748584375026094080', name='Hamed Najafabadi', screen_name='hsnajafabadi', location='Canada', description='Assistant Professor at McGill University, studying gene regulation in human cells.', url='https://t.co/wRAfLUZHQ7', entities={'url': {'urls': [{'url': 'https://t.co/wRAfLUZHQ7', 'expanded_url': 'http://csg.lab.mcgill.ca/', 'display_url': 'csg.lab.mcgill.ca', 'indices': [0, 23]}]}, 'description': {'urls': []}}, protected=False, followers_count=687, friends_count=430, listed_count=7, created_at=datetime.datetime(2016, 6, 30, 18, 29, 57, tzinfo=datetime.timezone.utc), favourites_count=2972, utc_offset=None, time_zone=None, geo_enabled=False, verified=False, statuses_count=902, lang=None, contributors_enabled=False, is_translator=False, is_translation_enabled=False, profile_background_color='F5F8FA', profile_background_image_url=None, profile_background_image_url_https=None, profile_background_tile=False, profile_image_url='http://pbs.twimg.com/profile_images/1050047002787147777/98LUW9Ou_normal.jpg', profile_image_url_https='https://pbs.twimg.com/profile_images/1050047002787147777/98LUW9Ou_normal.jpg', profile_link_color='1DA1F2', profile_sidebar_border_color='C0DEED', profile_sidebar_fill_color='DDEEF6', profile_text_color='333333', profile_use_background_image=True, has_extended_profile=False, default_profile=True, default_profile_image=False, following=False, follow_request_sent=False, notifications=False, translator_type='none', withheld_in_countries=[]), user=User(_api=<tweepy.api.API object at 0x11bb614f0>, _json={'id': 748584375026094080, 'id_str': '748584375026094080', 'name': 'Hamed Najafabadi', 'screen_name': 'hsnajafabadi', 'location': 'Canada', 'description': 'Assistant Professor at McGill University, studying gene regulation in human cells.', 'url': 'https://t.co/wRAfLUZHQ7', 'entities': {'url': {'urls': [{'url': 'https://t.co/wRAfLUZHQ7', 'expanded_url': 'http://csg.lab.mcgill.ca/', 'display_url': 'csg.lab.mcgill.ca', 'indices': [0, 23]}]}, 'description': {'urls': []}}, 'protected': False, 'followers_count': 687, 'friends_count': 430, 'listed_count': 7, 'created_at': 'Thu Jun 30 18:29:57 +0000 2016', 'favourites_count': 2972, 'utc_offset': None, 'time_zone': None, 'geo_enabled': False, 'verified': False, 'statuses_count': 902, 'lang': None, 'contributors_enabled': False, 'is_translator': False, 'is_translation_enabled': False, 'profile_background_color': 'F5F8FA', 'profile_background_image_url': None, 'profile_background_image_url_https': None, 'profile_background_tile': False, 'profile_image_url': 'http://pbs.twimg.com/profile_images/1050047002787147777/98LUW9Ou_normal.jpg', 'profile_image_url_https': 'https://pbs.twimg.com/profile_images/1050047002787147777/98LUW9Ou_normal.jpg', 'profile_link_color': '1DA1F2', 'profile_sidebar_border_color': 'C0DEED', 'profile_sidebar_fill_color': 'DDEEF6', 'profile_text_color': '333333', 'profile_use_background_image': True, 'has_extended_profile': False, 'default_profile': True, 'default_profile_image': False, 'following': False, 'follow_request_sent': False, 'notifications': False, 'translator_type': 'none', 'withheld_in_countries': []}, id=748584375026094080, id_str='748584375026094080', name='Hamed Najafabadi', screen_name='hsnajafabadi', location='Canada', description='Assistant Professor at McGill University, studying gene regulation in human cells.', url='https://t.co/wRAfLUZHQ7', entities={'url': {'urls': [{'url': 'https://t.co/wRAfLUZHQ7', 'expanded_url': 'http://csg.lab.mcgill.ca/', 'display_url': 'csg.lab.mcgill.ca', 'indices': [0, 23]}]}, 'description': {'urls': []}}, protected=False, followers_count=687, friends_count=430, listed_count=7, created_at=datetime.datetime(2016, 6, 30, 18, 29, 57, tzinfo=datetime.timezone.utc), favourites_count=2972, utc_offset=None, time_zone=None, geo_enabled=False, verified=False, statuses_count=902, lang=None, contributors_enabled=False, is_translator=False, is_translation_enabled=False, profile_background_color='F5F8FA', profile_background_image_url=None, profile_background_image_url_https=None, profile_background_tile=False, profile_image_url='http://pbs.twimg.com/profile_images/1050047002787147777/98LUW9Ou_normal.jpg', profile_image_url_https='https://pbs.twimg.com/profile_images/1050047002787147777/98LUW9Ou_normal.jpg', profile_link_color='1DA1F2', profile_sidebar_border_color='C0DEED', profile_sidebar_fill_color='DDEEF6', profile_text_color='333333', profile_use_background_image=True, has_extended_profile=False, default_profile=True, default_profile_image=False, following=False, follow_request_sent=False, notifications=False, translator_type='none', withheld_in_countries=[]), geo=None, coordinates=None, place=None, contributors=None, retweeted_status=Status(_api=<tweepy.api.API object at 0x11bb614f0>, _json={'created_at': 'Tue May 24 11:48:00 +0000 2022', 'id': 1529066684274905089, 'id_str': '1529066684274905089', 'text': 'Our new biophysically interpretable machine learning approach has been published by @NatureBiotech. This was a grea… https://t.co/BgnnIEFrHT', 'truncated': True, 'entities': {'hashtags': [], 'symbols': [], 'user_mentions': [{'screen_name': 'NatureBiotech', 'name': 'Nature Biotechnology', 'id': 44418062, 'id_str': '44418062', 'indices': [84, 98]}], 'urls': [{'url': 'https://t.co/BgnnIEFrHT', 'expanded_url': 'https://twitter.com/i/web/status/1529066684274905089', 'display_url': 'twitter.com/i/web/status/1…', 'indices': [117, 140]}]}, 'metadata': {'iso_language_code': 'en', 'result_type': 'recent'}, 'source': '<a href=\"https://mobile.twitter.com\" rel=\"nofollow\">Twitter Web App</a>', 'in_reply_to_status_id': None, 'in_reply_to_status_id_str': None, 'in_reply_to_user_id': None, 'in_reply_to_user_id_str': None, 'in_reply_to_screen_name': None, 'user': {'id': 1047195299574403074, 'id_str': '1047195299574403074', 'name': 'Harmen Bussemaker', 'screen_name': 'HarmenBussemkr', 'location': '', 'description': 'Professor of Biological Sciences and Systems Biology at Columbia University', 'url': None, 'entities': {'description': {'urls': []}}, 'protected': False, 'followers_count': 131, 'friends_count': 38, 'listed_count': 0, 'created_at': 'Tue Oct 02 18:43:10 +0000 2018', 'favourites_count': 0, 'utc_offset': None, 'time_zone': None, 'geo_enabled': False, 'verified': False, 'statuses_count': 7, 'lang': None, 'contributors_enabled': False, 'is_translator': False, 'is_translation_enabled': False, 'profile_background_color': 'F5F8FA', 'profile_background_image_url': None, 'profile_background_image_url_https': None, 'profile_background_tile': False, 'profile_image_url': 'http://pbs.twimg.com/profile_images/1047196898258575360/jd_TXGpF_normal.jpg', 'profile_image_url_https': 'https://pbs.twimg.com/profile_images/1047196898258575360/jd_TXGpF_normal.jpg', 'profile_banner_url': 'https://pbs.twimg.com/profile_banners/1047195299574403074/1588950277', 'profile_link_color': '1DA1F2', 'profile_sidebar_border_color': 'C0DEED', 'profile_sidebar_fill_color': 'DDEEF6', 'profile_text_color': '333333', 'profile_use_background_image': True, 'has_extended_profile': False, 'default_profile': True, 'default_profile_image': False, 'following': False, 'follow_request_sent': False, 'notifications': False, 'translator_type': 'none', 'withheld_in_countries': []}, 'geo': None, 'coordinates': None, 'place': None, 'contributors': None, 'is_quote_status': False, 'retweet_count': 9, 'favorite_count': 31, 'favorited': False, 'retweeted': False, 'possibly_sensitive': False, 'lang': 'en'}, created_at=datetime.datetime(2022, 5, 24, 11, 48, tzinfo=datetime.timezone.utc), id=1529066684274905089, id_str='1529066684274905089', text='Our new biophysically interpretable machine learning approach has been published by @NatureBiotech. This was a grea… https://t.co/BgnnIEFrHT', truncated=True, entities={'hashtags': [], 'symbols': [], 'user_mentions': [{'screen_name': 'NatureBiotech', 'name': 'Nature Biotechnology', 'id': 44418062, 'id_str': '44418062', 'indices': [84, 98]}], 'urls': [{'url': 'https://t.co/BgnnIEFrHT', 'expanded_url': 'https://twitter.com/i/web/status/1529066684274905089', 'display_url': 'twitter.com/i/web/status/1…', 'indices': [117, 140]}]}, metadata={'iso_language_code': 'en', 'result_type': 'recent'}, source='Twitter Web App', source_url='https://mobile.twitter.com', in_reply_to_status_id=None, in_reply_to_status_id_str=None, in_reply_to_user_id=None, in_reply_to_user_id_str=None, in_reply_to_screen_name=None, author=User(_api=<tweepy.api.API object at 0x11bb614f0>, _json={'id': 1047195299574403074, 'id_str': '1047195299574403074', 'name': 'Harmen Bussemaker', 'screen_name': 'HarmenBussemkr', 'location': '', 'description': 'Professor of Biological Sciences and Systems Biology at Columbia University', 'url': None, 'entities': {'description': {'urls': []}}, 'protected': False, 'followers_count': 131, 'friends_count': 38, 'listed_count': 0, 'created_at': 'Tue Oct 02 18:43:10 +0000 2018', 'favourites_count': 0, 'utc_offset': None, 'time_zone': None, 'geo_enabled': False, 'verified': False, 'statuses_count': 7, 'lang': None, 'contributors_enabled': False, 'is_translator': False, 'is_translation_enabled': False, 'profile_background_color': 'F5F8FA', 'profile_background_image_url': None, 'profile_background_image_url_https': None, 'profile_background_tile': False, 'profile_image_url': 'http://pbs.twimg.com/profile_images/1047196898258575360/jd_TXGpF_normal.jpg', 'profile_image_url_https': 'https://pbs.twimg.com/profile_images/1047196898258575360/jd_TXGpF_normal.jpg', 'profile_banner_url': 'https://pbs.twimg.com/profile_banners/1047195299574403074/1588950277', 'profile_link_color': '1DA1F2', 'profile_sidebar_border_color': 'C0DEED', 'profile_sidebar_fill_color': 'DDEEF6', 'profile_text_color': '333333', 'profile_use_background_image': True, 'has_extended_profile': False, 'default_profile': True, 'default_profile_image': False, 'following': False, 'follow_request_sent': False, 'notifications': False, 'translator_type': 'none', 'withheld_in_countries': []}, id=1047195299574403074, id_str='1047195299574403074', name='Harmen Bussemaker', screen_name='HarmenBussemkr', location='', description='Professor of Biological Sciences and Systems Biology at Columbia University', url=None, entities={'description': {'urls': []}}, protected=False, followers_count=131, friends_count=38, listed_count=0, created_at=datetime.datetime(2018, 10, 2, 18, 43, 10, tzinfo=datetime.timezone.utc), favourites_count=0, utc_offset=None, time_zone=None, geo_enabled=False, verified=False, statuses_count=7, lang=None, contributors_enabled=False, is_translator=False, is_translation_enabled=False, profile_background_color='F5F8FA', profile_background_image_url=None, profile_background_image_url_https=None, profile_background_tile=False, profile_image_url='http://pbs.twimg.com/profile_images/1047196898258575360/jd_TXGpF_normal.jpg', profile_image_url_https='https://pbs.twimg.com/profile_images/1047196898258575360/jd_TXGpF_normal.jpg', profile_banner_url='https://pbs.twimg.com/profile_banners/1047195299574403074/1588950277', profile_link_color='1DA1F2', profile_sidebar_border_color='C0DEED', profile_sidebar_fill_color='DDEEF6', profile_text_color='333333', profile_use_background_image=True, has_extended_profile=False, default_profile=True, default_profile_image=False, following=False, follow_request_sent=False, notifications=False, translator_type='none', withheld_in_countries=[]), user=User(_api=<tweepy.api.API object at 0x11bb614f0>, _json={'id': 1047195299574403074, 'id_str': '1047195299574403074', 'name': 'Harmen Bussemaker', 'screen_name': 'HarmenBussemkr', 'location': '', 'description': 'Professor of Biological Sciences and Systems Biology at Columbia University', 'url': None, 'entities': {'description': {'urls': []}}, 'protected': False, 'followers_count': 131, 'friends_count': 38, 'listed_count': 0, 'created_at': 'Tue Oct 02 18:43:10 +0000 2018', 'favourites_count': 0, 'utc_offset': None, 'time_zone': None, 'geo_enabled': False, 'verified': False, 'statuses_count': 7, 'lang': None, 'contributors_enabled': False, 'is_translator': False, 'is_translation_enabled': False, 'profile_background_color': 'F5F8FA', 'profile_background_image_url': None, 'profile_background_image_url_https': None, 'profile_background_tile': False, 'profile_image_url': 'http://pbs.twimg.com/profile_images/1047196898258575360/jd_TXGpF_normal.jpg', 'profile_image_url_https': 'https://pbs.twimg.com/profile_images/1047196898258575360/jd_TXGpF_normal.jpg', 'profile_banner_url': 'https://pbs.twimg.com/profile_banners/1047195299574403074/1588950277', 'profile_link_color': '1DA1F2', 'profile_sidebar_border_color': 'C0DEED', 'profile_sidebar_fill_color': 'DDEEF6', 'profile_text_color': '333333', 'profile_use_background_image': True, 'has_extended_profile': False, 'default_profile': True, 'default_profile_image': False, 'following': False, 'follow_request_sent': False, 'notifications': False, 'translator_type': 'none', 'withheld_in_countries': []}, id=1047195299574403074, id_str='1047195299574403074', name='Harmen Bussemaker', screen_name='HarmenBussemkr', location='', description='Professor of Biological Sciences and Systems Biology at Columbia University', url=None, entities={'description': {'urls': []}}, protected=False, followers_count=131, friends_count=38, listed_count=0, created_at=datetime.datetime(2018, 10, 2, 18, 43, 10, tzinfo=datetime.timezone.utc), favourites_count=0, utc_offset=None, time_zone=None, geo_enabled=False, verified=False, statuses_count=7, lang=None, contributors_enabled=False, is_translator=False, is_translation_enabled=False, profile_background_color='F5F8FA', profile_background_image_url=None, profile_background_image_url_https=None, profile_background_tile=False, profile_image_url='http://pbs.twimg.com/profile_images/1047196898258575360/jd_TXGpF_normal.jpg', profile_image_url_https='https://pbs.twimg.com/profile_images/1047196898258575360/jd_TXGpF_normal.jpg', profile_banner_url='https://pbs.twimg.com/profile_banners/1047195299574403074/1588950277', profile_link_color='1DA1F2', profile_sidebar_border_color='C0DEED', profile_sidebar_fill_color='DDEEF6', profile_text_color='333333', profile_use_background_image=True, has_extended_profile=False, default_profile=True, default_profile_image=False, following=False, follow_request_sent=False, notifications=False, translator_type='none', withheld_in_countries=[]), geo=None, coordinates=None, place=None, contributors=None, is_quote_status=False, retweet_count=9, favorite_count=31, favorited=False, retweeted=False, possibly_sensitive=False, lang='en'), is_quote_status=False, retweet_count=9, favorite_count=0, favorited=False, retweeted=False, lang='en')"
     },
     "execution_count": 49,
     "metadata": {},
     "output_type": "execute_result"
    }
   ],
   "source": [
    "q = query[0]\n",
    "\n",
    "\n",
    "print(type(q))\n",
    "q"
   ],
   "metadata": {
    "collapsed": false,
    "pycharm": {
     "name": "#%%\n"
    }
   }
  },
  {
   "cell_type": "code",
   "execution_count": 38,
   "outputs": [
    {
     "data": {
      "text/plain": "'RT @HarmenBussemkr: Our new biophysically interpretable machine learning approach has been published by @NatureBiotech. This was a great co…'"
     },
     "execution_count": 38,
     "metadata": {},
     "output_type": "execute_result"
    }
   ],
   "source": [
    "tweet = query[0]\n",
    "tweet.user.name\n",
    "tweet.user.screen_name\n",
    "tweet.text"
   ],
   "metadata": {
    "collapsed": false,
    "pycharm": {
     "name": "#%%\n"
    }
   }
  },
  {
   "cell_type": "code",
   "execution_count": 39,
   "outputs": [
    {
     "data": {
      "text/plain": "True"
     },
     "execution_count": 39,
     "metadata": {},
     "output_type": "execute_result"
    }
   ],
   "source": [
    "\n",
    "if 'text' in data and\n",
    "    bigram_len > 2 and\n",
    "    'RT' not in tweet and\n",
    "    'http' not in bigram_poem(tweet) and\n",
    "    data['lang'] == 'en' and\n",
    "    data['user']['screen_name'] != 'BigramPoetry' and\n",
    "    data['user']['screen_name'] != 'sodnpoo_cams':"
   ],
   "metadata": {
    "collapsed": false,
    "pycharm": {
     "name": "#%%\n"
    }
   }
  },
  {
   "cell_type": "code",
   "execution_count": 48,
   "outputs": [
    {
     "data": {
      "text/plain": "True"
     },
     "execution_count": 48,
     "metadata": {},
     "output_type": "execute_result"
    }
   ],
   "source": [
    "\n",
    "# 'RT' not in tweet.text\n",
    "# len(tweet.text.split(' ')) > 2\n",
    "# 'http' not in tweet.text\n",
    "# tweet.lang=='en'\n",
    "# tweet.user.screen_name != 'BrigramPoetry'"
   ],
   "metadata": {
    "collapsed": false,
    "pycharm": {
     "name": "#%%\n"
    }
   }
  },
  {
   "cell_type": "code",
   "execution_count": 100,
   "outputs": [
    {
     "ename": "TypeError",
     "evalue": "true() takes 0 positional arguments but 1 was given",
     "output_type": "error",
     "traceback": [
      "\u001B[0;31m---------------------------------------------------------------------------\u001B[0m",
      "\u001B[0;31mTypeError\u001B[0m                                 Traceback (most recent call last)",
      "Input \u001B[0;32mIn [100]\u001B[0m, in \u001B[0;36m<cell line: 13>\u001B[0;34m()\u001B[0m\n\u001B[1;32m     13\u001B[0m \u001B[38;5;28;01mfor\u001B[39;00m i \u001B[38;5;129;01min\u001B[39;00m \u001B[38;5;28mrange\u001B[39m(\u001B[38;5;28mlen\u001B[39m(query)):\n\u001B[1;32m     14\u001B[0m     tweet \u001B[38;5;241m=\u001B[39m query[i]\n\u001B[0;32m---> 16\u001B[0m     \u001B[38;5;28;01mif\u001B[39;00m \u001B[43mhelper_functions\u001B[49m\u001B[38;5;241;43m.\u001B[39;49m\u001B[43mtrue\u001B[49m\u001B[43m(\u001B[49m\u001B[43mtweet\u001B[49m\u001B[43m)\u001B[49m:\n\u001B[1;32m     17\u001B[0m         \u001B[38;5;28mprint\u001B[39m(\u001B[38;5;124m'\u001B[39m\u001B[38;5;124mtada!\u001B[39m\u001B[38;5;124m'\u001B[39m)\n",
      "\u001B[0;31mTypeError\u001B[0m: true() takes 0 positional arguments but 1 was given"
     ]
    }
   ],
   "source": [
    "# import bigram\n",
    "# from bigram import cm\n",
    "import helper_functions\n",
    "\n",
    "\n",
    "# def conditions_met(tweet):\n",
    "#     return 'RT' not in tweet.text \\\n",
    "#         and len(tweet.text.split(' ')) > 2 \\\n",
    "#         and 'http' not in tweet.text \\\n",
    "#         and tweet.lang == 'en' \\\n",
    "#         and tweet.user.screen_name != 'BrigramPoetry'\n",
    "\n",
    "for i in range(len(query)):\n",
    "    tweet = query[i]\n",
    "\n",
    "    if helper_functions.true(tweet):\n",
    "        print('tada!')\n",
    "\n",
    "        # # Return bigram poem\n",
    "        # poem = bigram.bigram_poem(tweet.text)\n",
    "        # print(poem)\n",
    "        #\n",
    "        # break"
   ],
   "metadata": {
    "collapsed": false,
    "pycharm": {
     "name": "#%%\n"
    }
   }
  },
  {
   "cell_type": "code",
   "execution_count": 82,
   "outputs": [
    {
     "data": {
      "text/plain": "False"
     },
     "execution_count": 82,
     "metadata": {},
     "output_type": "execute_result"
    }
   ],
   "source": [],
   "metadata": {
    "collapsed": false,
    "pycharm": {
     "name": "#%%\n"
    }
   }
  },
  {
   "cell_type": "code",
   "execution_count": null,
   "outputs": [],
   "source": [],
   "metadata": {
    "collapsed": false,
    "pycharm": {
     "name": "#%%\n"
    }
   }
  }
 ],
 "metadata": {
  "kernelspec": {
   "display_name": "Python 3",
   "language": "python",
   "name": "python3"
  },
  "language_info": {
   "codemirror_mode": {
    "name": "ipython",
    "version": 2
   },
   "file_extension": ".py",
   "mimetype": "text/x-python",
   "name": "python",
   "nbconvert_exporter": "python",
   "pygments_lexer": "ipython2",
   "version": "2.7.6"
  }
 },
 "nbformat": 4,
 "nbformat_minor": 0
}